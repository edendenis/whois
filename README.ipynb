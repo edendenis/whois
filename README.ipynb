{
 "cells": [
  {
   "cell_type": "markdown",
   "metadata": {},
   "source": [
    "# Como configurar/instalar/usar o `whois` no `Linux Ubuntu`\n",
    "\n",
    "## Resumo\n",
    "\n",
    "Neste documento estão contidos os principais comandos e configurações para configurar/instalar o `whois` no `Linux Ubuntu`.\n",
    "\n",
    "## _Abstract_\n",
    "\n",
    "_In this document are contained the main commands and settings to set up/install the `whois` on `Linux Ubuntu`._\n"
   ]
  },
  {
   "cell_type": "markdown",
   "metadata": {},
   "source": [
    "## Descrição [2]\n",
    "\n",
    "### `whois`\n",
    "\n",
    "O \"whois\" é um protocolo e uma ferramenta de linha de comando utilizada para consultar informações sobre registros de domínio na Internet. Ele permite aos usuários obter detalhes sobre a propriedade, registros de nome, data de registro, data de expiração e informações de contato associadas a um determinado domínio. Essas consultas são realizadas em bancos de dados distribuídos, mantidos por registradores de domínios e autoridades de registro, e fornecem transparência e visibilidade sobre a propriedade e a gestão de domínios na Internet. O \"whois\" é frequentemente utilizado por administradores de rede, proprietários de domínios, pesquisadores de segurança e profissionais de TI para investigar questões relacionadas a nomes de domínio, como verificar a disponibilidade de um domínio, identificar informações de contato do proprietário de um domínio ou investigar atividades suspeitas na Internet.\n",
    "\n",
    "### `DNS`\n",
    "\n",
    "O DNS, ou Sistema de Nomes de Domínio, é um sistema fundamental na Internet que traduz nomes de domínio legíveis por humanos, como exemplo.com, em endereços IP numéricos, que são utilizados pelos computadores para localizar serviços e recursos na rede. Funcionando como uma espécie de catálogo telefônico da Internet, o DNS permite que os usuários acessem sites, enviem e recebam e-mails, e realizem outras atividades online, sem precisar memorizar endereços IP complexos. Quando um usuário digita um nome de domínio em um navegador da web ou em outro aplicativo de Internet, o computador faz uma consulta DNS para encontrar o endereço IP correspondente associado a esse nome de domínio. Esse processo envolve a comunicação com servidores DNS distribuídos em toda a Internet, começando com servidores de nomes raiz e percorrendo uma hierarquia de servidores DNS autorizados até encontrar a resposta desejada. O DNS é essencial para o funcionamento da Internet moderna e é uma parte crítica da infraestrutura de rede global.\n"
   ]
  },
  {
   "cell_type": "markdown",
   "metadata": {},
   "source": [
    "## 1. Como configurar/instalar/usar o `whois` no `Linux Ubuntu` [1]\n",
    "\n",
    "Para configurar/instalar/usar o `whois` no `Linux Ubuntu`, você pode seguir estes passos:\n",
    "\n",
    "1. Abra o `Root Terminal Emulator`. Você pode fazer isso pressionando: `Ctrl + Suft + Alt + T`"
   ]
  },
  {
   "cell_type": "markdown",
   "metadata": {},
   "source": [
    "2. Certifique-se de que seu sistema esteja limpo e atualizado.\n",
    "\n",
    "    2.1 Remover pacotes `.deb` antigos ou duplicados do cache local. É útil para liberar espaço, pois remove apenas os pacotes que não podem mais ser baixados (ou seja, versões antigas de pacotes que foram atualizados). Digite o seguinte comando: `sudo apt autoclean`\n",
    "\n",
    "    2.2 Remover pacotes que foram automaticamente instalados para satisfazer as dependências de outros pacotes e que não são mais necessários. Digite o seguinte comando: `sudo apt autoremove -y`\n",
    "\n",
    "    2.3 Buscar as atualizações disponíveis para os pacotes que estão instalados em seu sistema. Digite o seguinte comando e pressione `Enter`: `sudo apt update -y`\n",
    "\n",
    "    2.4 Para ver a lista de pacotes a serem atualizados, digite o seguinte comando e pressione `Enter`:  `sudo apt list --upgradable`\n",
    "\n",
    "    2.5 Realmente atualizar os pacotes instalados para as suas versões mais recentes, com base na última vez que você executou `sudo apt update -y`. Digite o seguinte comando e pressione `Enter`: `sudo apt full-upgrade -y`\n",
    "\n",
    "    2.6 Remover pacotes que foram automaticamente instalados para satisfazer as dependências de outros pacotes e que não são mais necessários. Digite o seguinte comando: `sudo apt autoremove -y`\n",
    "\n",
    "    2.7 Remover pacotes `.deb` antigos ou duplicados do cache local. É útil para liberar espaço, pois remove apenas os pacotes que não podem mais ser baixados (ou seja, versões antigas de pacotes que foram atualizados). Digite o seguinte comando: `sudo apt autoclean`"
   ]
  },
  {
   "cell_type": "markdown",
   "metadata": {},
   "source": [
    "3. O `whois` já vem pré-instalado do `Linux Ubuntu`. Sendo assim, para instalar o `nmap` tant no `Linux Ubuntu` quanto no `Linux Ubuntu`, siga as instruções abaixo:"
   ]
  },
  {
   "cell_type": "markdown",
   "metadata": {},
   "source": [
    "Para configurar/instalar/usar o `whois` no `Linux Ubuntu`, você pode seguir estes passos:\n",
    "\n",
    "4. **Execute o comando:** `sudo apt install whois`"
   ]
  },
  {
   "cell_type": "markdown",
   "metadata": {
    "vscode": {
     "languageId": "plaintext"
    }
   },
   "source": [
    "## 2. Código completo para configurar/instalar\n",
    "\n",
    "Para instalar o `whois` no `Linux Ubuntu` sem precisar digitar linha por linha, você pode seguir estas etapas:\n",
    "\n",
    "1. Abra o `Terminal Emulator`. Você pode fazer isso pressionando: `Ctrl + Alt + T`\n",
    "\n",
    "2. Digite o seguinte comando e pressione `Enter`:\n",
    "\n",
    "    ```\n",
    "    sudo apt autoclean                     \n",
    "    sudo apt autoremove\n",
    "    sudo apt update -y\n",
    "    sudo apt autoremove\n",
    "    sudo apt autoclean\n",
    "    sudo apt list --upgradable\n",
    "    sudo apt full-upgrade -y\n",
    "    sudo apt install whois\n",
    "    whois meklogistics.com.br\n",
    "    ```\n"
   ]
  },
  {
   "cell_type": "markdown",
   "metadata": {
    "vscode": {
     "languageId": "plaintext"
    }
   },
   "source": [
    "## Referências\n",
    "\n",
    "[1] OPENAI. ***Instalar `whois` no Ubuntu:*** https://chat.openai.com/c/b5da860f-1627-4f20-9fc7-a063b9248c5b (texto adaptado). Acessado em: 09/02/2024 00:37.\n",
    "\n",
    "[2] OPENAI. ***Vs code: editor popular:*** https://chat.openai.com/c/b640a25d-f8e3-4922-8a3b-ed74a2657e42 (texto adaptado). Acessado em: 09/02/2024 00:37.\n",
    "\n",
    "[3] USER: FREE EDUCATION FOR ALL. ***Lesson 29: whois:*** https://www.youtube.com/watch?v=FYJ7oiiYvek&list=PLnjNR4-S-EVqfJWovxEJyb7I0IOkKkoYM&index=29 (texto adaptado). Acessado em: 09/02/2024 00:37.\n"
   ]
  }
 ],
 "metadata": {
  "kernelspec": {
   "display_name": "Python 3",
   "language": "python",
   "name": "python3"
  },
  "language_info": {
   "codemirror_mode": {
    "name": "ipython",
    "version": 3
   },
   "file_extension": ".py",
   "mimetype": "text/x-python",
   "name": "python",
   "nbconvert_exporter": "python",
   "pygments_lexer": "ipython3",
   "version": "3.11.5"
  },
  "orig_nbformat": 4
 },
 "nbformat": 4,
 "nbformat_minor": 2
}
